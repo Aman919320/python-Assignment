{
 "cells": [
  {
   "cell_type": "code",
   "execution_count": 4,
   "metadata": {},
   "outputs": [
    {
     "name": "stdout",
     "output_type": "stream",
     "text": [
      "Student Name: Aman Gupta\n",
      "Subject: Introduction to Python\n",
      "3.12.4 | packaged by Anaconda, Inc. | (main, Jun 18 2024, 15:03:56) [MSC v.1929 64 bit (AMD64)]\n"
     ]
    }
   ],
   "source": [
    "#Write a Python script that prints your name, course name, and the Python version you're using.\n",
    "import sys\n",
    "\n",
    "# Declaring and assigning the variable for student_name\n",
    "student_name = \"Aman Gupta\"\n",
    "# Declaring and assigning the variable for subject\n",
    "subject = \"Introduction to Python\"\n",
    "\n",
    "# Printing the student's name and the course using f-strings\n",
    "print(f\"Student Name: {student_name}\")\n",
    "print(f\"Subject: {subject}\")\n",
    "\n",
    "# Printing the Python version in use\n",
    "print(sys.version)"
   ]
  },
  {
   "cell_type": "code",
   "execution_count": 7,
   "metadata": {},
   "outputs": [
    {
     "name": "stdout",
     "output_type": "stream",
     "text": [
      "Reversed full name: Gupta Aman\n"
     ]
    }
   ],
   "source": [
    "#Write a Python program that takes a user's first and last name as input and prints them in reverse order with a space between them.\n",
    "\n",
    "# Get user's given name as input\n",
    "given_name = input(\"Enter your given name: \")\n",
    "\n",
    "# Get user's family name as input\n",
    "family_name = input(\"Enter your family name: \")\n",
    "\n",
    "# Combine both names in reverse order with a space in between\n",
    "reversed_name = family_name + \" \" + given_name\n",
    "\n",
    "# Print the reversed full name using the f-string method\n",
    "print(f\"Reversed full name: {reversed_name}\")"
   ]
  },
  {
   "cell_type": "code",
   "execution_count": 8,
   "metadata": {},
   "outputs": [
    {
     "name": "stdout",
     "output_type": "stream",
     "text": [
      "Original string: ni hao ma.\n",
      "Uppercase string: NI HAO MA.\n",
      "Modified string: ni hao ma?\n"
     ]
    }
   ],
   "source": [
    "#Use at least two string methods and explain their purpose in the comments.\n",
    "\n",
    "# This line assigns the string value \"ni hao ma.\" to the variable phrase\n",
    "phrase = \"ni hao ma.\"\n",
    "\n",
    "# Converts all characters in the string to uppercase\n",
    "uppercased_phrase = phrase.upper()\n",
    "\n",
    "# Replaces the period (.) with a question mark (?) in the string\n",
    "modified_phrase = phrase.replace(\".\", \"?\")\n",
    "\n",
    "# Print the results using the f-string method\n",
    "print(f\"Original string: {phrase}\")\n",
    "print(f\"Uppercase string: {uppercased_phrase}\")\n",
    "print(f\"Modified string: {modified_phrase}\")\n"
   ]
  },
  {
   "cell_type": "code",
   "execution_count": 9,
   "metadata": {},
   "outputs": [
    {
     "name": "stdout",
     "output_type": "stream",
     "text": [
      "Converted to int: 10\n",
      "Converted to float: 10.0\n",
      "Converted to complex: (10+0j)\n"
     ]
    }
   ],
   "source": [
    "#Write a Python program that takes an input number from the user, converts it to different numeric data types (integer, float, and complex), and displays the converted values.\n",
    "\n",
    "# Take an input number from the user\n",
    "user_input = input(\"Enter a number: \")\n",
    "\n",
    "# Convert the input to an integer (whole number)\n",
    "integer_value = int(user_input)  # Represents whole numbers\n",
    "\n",
    "# Convert the input to a float (real number with a decimal point)\n",
    "float_value = float(user_input)  # Represents real numbers with a decimal point\n",
    "\n",
    "# Convert the input to a complex number (in the form of a + bj)\n",
    "complex_value = complex(user_input)  # Represents complex numbers in the form (a + bj), where a is the real part and b is the imaginary part\n",
    "\n",
    "# Print the converted values\n",
    "print(f\"Converted to int: {integer_value}\")\n",
    "print(f\"Converted to float: {float_value}\")\n",
    "print(f\"Converted to complex: {complex_value}\")"
   ]
  },
  {
   "cell_type": "code",
   "execution_count": 10,
   "metadata": {},
   "outputs": [
    {
     "name": "stdout",
     "output_type": "stream",
     "text": [
      "The area of the rectangle is: 400.0\n"
     ]
    }
   ],
   "source": [
    "#Create a Python script that calculates the area of a rectangle.\n",
    "\n",
    "# Take the length as input from the user\n",
    "rect_length = float(input(\"Enter the length of the rectangle: \"))\n",
    "\n",
    "# Take the width as input from the user\n",
    "rect_width = float(input(\"Enter the width of the rectangle: \"))\n",
    "\n",
    "# Calculate the area of the rectangle (length * width)\n",
    "rectangle_area = rect_length * rect_width\n",
    "\n",
    "# Display the result using the f-string method\n",
    "print(f\"The area of the rectangle is: {rectangle_area}\")"
   ]
  },
  {
   "cell_type": "code",
   "execution_count": 11,
   "metadata": {},
   "outputs": [
    {
     "name": "stdout",
     "output_type": "stream",
     "text": [
      "The area of the rectangle is: 200.00\n"
     ]
    }
   ],
   "source": [
    "#Modify the rectangle area program to format the output so that it displays the area with two decimal places.\n",
    "\n",
    "# Take the length as input from the user\n",
    "rect_length = float(input(\"Enter the length of the rectangle: \"))\n",
    "\n",
    "# Take the width as input from the user\n",
    "rect_width = float(input(\"Enter the width of the rectangle: \"))\n",
    "\n",
    "# Calculate the area of the rectangle (length * width)\n",
    "rectangle_area = rect_length * rect_width\n",
    "\n",
    "# Display the area of the rectangle, formatted to two decimal places\n",
    "print(f\"The area of the rectangle is: {rectangle_area:.2f}\")"
   ]
  },
  {
   "cell_type": "code",
   "execution_count": 12,
   "metadata": {},
   "outputs": [
    {
     "name": "stdout",
     "output_type": "stream",
     "text": [
      "The average of the three numbers is: 15.00\n"
     ]
    }
   ],
   "source": [
    "#Write a Python script that takes three numbers as input and prints their average using the % method for string formatting. Also, use the print function to display a message that states, \"The average of the three numbers is: [calculated average]\".\n",
    "\n",
    "#Taking three numbers as input from the user\n",
    "num1 = input(\"Enter the first number here: \")\n",
    "num2 = input(\"Enter the second number here: \")\n",
    "num3 = input(\"Enter the third number here: \")\n",
    "\n",
    "try:\n",
    "    #convering input to float\n",
    "    num1 = float(num1)\n",
    "    num2 = float(num2)\n",
    "    num3 = float(num3)\n",
    "    \n",
    "    # Calculating the average\n",
    "    average = (num1 + num2 + num3) / 3\n",
    "\n",
    "    # Printing the average using % formatting\n",
    "    print(\"The average of the three numbers is: %.2f\" % average)\n",
    "\n",
    "except ValueError:\n",
    "    print(\"Invalid input. Please enter a valid numeric value.\")"
   ]
  },
  {
   "cell_type": "code",
   "execution_count": 13,
   "metadata": {},
   "outputs": [
    {
     "name": "stdout",
     "output_type": "stream",
     "text": [
      "It is Positive number\n",
      "It is Positive number\n",
      "It is Negative number\n",
      "Zero\n",
      "Invalid input.\n",
      "Exiting the program.\n"
     ]
    }
   ],
   "source": [
    "#Write a Python program that asks the user for a number and determines whether it is positive, negative, or zero,Implement a loop that continues to ask the user for a number until they enter 'exit'. Use break to exit the loop and continue to prompt for a new number if the input is not 'exit'.\n",
    "\n",
    "# Initialize the loop\n",
    "while True:\n",
    "    # takes the user's input\n",
    "    input_num = input(\"Enter a number here (or 'exit' to quit): \")\n",
    "\n",
    "    # Check if the user wants to exit\n",
    "    if input_num.lower() == 'exit':\n",
    "        print(\"Exiting the program.\")\n",
    "        \n",
    "        break\n",
    "\n",
    "    try:\n",
    "        # Convert input_num to a floating-point number\n",
    "        number = float(input_num)\n",
    "        \n",
    "        # finding the number is positive, negative, or zero\n",
    "        if number > 0:\n",
    "            print(\"It is Positive number\")\n",
    "        elif number < 0:\n",
    "            print(\"It is Negative number\")\n",
    "        else:\n",
    "            print(\"Zero\")\n",
    "    except ValueError:\n",
    "        # Handle invalid input (non-numeric or empty input)\n",
    "        print(\"Invalid input.\")"
   ]
  },
  {
   "cell_type": "code",
   "execution_count": 14,
   "metadata": {},
   "outputs": [
    {
     "name": "stdout",
     "output_type": "stream",
     "text": [
      "One number is even and the other is odd.\n"
     ]
    }
   ],
   "source": [
    "#Create a Python script that takes two numbers as input and prints whether both numbers are even, odd, or one of each using relational and logical operators.\n",
    "\n",
    "# Take two numbers as input from the user\n",
    "first_num = int(input(\"Enter the first number: \"))\n",
    "second_num = int(input(\"Enter the second number: \"))\n",
    "\n",
    "# Check if both numbers are even, both are odd, or one of each using the bitwise AND operator\n",
    "if first_num & 1 == 0 and second_num & 1 == 0:\n",
    "    print(\"Both of the numbers are even.\")\n",
    "elif first_num & 1 != 0 and second_num & 1 != 0:\n",
    "    print(\"Both of the numbers are odd.\")\n",
    "else:\n",
    "    print(\"One number is even and the other is odd.\")"
   ]
  },
  {
   "cell_type": "code",
   "execution_count": 17,
   "metadata": {},
   "outputs": [
    {
     "name": "stdout",
     "output_type": "stream",
     "text": [
      "Binary equivalent: 1010\n",
      "Octal equivalent: 12\n",
      "Hexadecimal equivalent: a\n"
     ]
    }
   ],
   "source": [
    "#Write a Python program that takes an integer input and prints its binary, octal, and hexadecimal equivalents using a for loop and bitwise operators.\n",
    "\n",
    "# Get integer input from the user\n",
    "num = int(input(\"Enter an integer: \"))\n",
    "\n",
    "# Initialize an empty string to store the binary equivalent\n",
    "binary = \"\"\n",
    "\n",
    "# Loop through each bit from the most significant to the least significant\n",
    "for shift in range(num.bit_length() - 1, -1, -1):\n",
    "    # Append '1' or '0' based on whether the bit at the current position is set\n",
    "    binary += \"1\" if (num & (1 << shift)) else \"0\"\n",
    "\n",
    "# Remove leading zeros from the binary string or default to \"0\" if the string is empty\n",
    "binary = binary.lstrip(\"0\") or \"0\"\n",
    "\n",
    "# Use Python's built-in functions to generate octal and hexadecimal equivalents\n",
    "octal = format(num, 'o')\n",
    "hexadecimal = format(num, 'x')\n",
    "\n",
    "# Print the results\n",
    "print(f\"Binary equivalent: {binary}\")\n",
    "print(f\"Octal equivalent: {octal}\")\n",
    "print(f\"Hexadecimal equivalent: {hexadecimal}\")"
   ]
  }
 ],
 "metadata": {
  "kernelspec": {
   "display_name": "base",
   "language": "python",
   "name": "python3"
  },
  "language_info": {
   "codemirror_mode": {
    "name": "ipython",
    "version": 3
   },
   "file_extension": ".py",
   "mimetype": "text/x-python",
   "name": "python",
   "nbconvert_exporter": "python",
   "pygments_lexer": "ipython3",
   "version": "3.12.4"
  },
  "orig_nbformat": 4
 },
 "nbformat": 4,
 "nbformat_minor": 2
}
